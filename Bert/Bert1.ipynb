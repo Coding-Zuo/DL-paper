{
 "cells": [
  {
   "cell_type": "code",
   "execution_count": 1,
   "metadata": {},
   "outputs": [],
   "source": [
    "import re\n",
    "import math\n",
    "import torch\n",
    "import numpy as np\n",
    "import torch.nn as nn\n",
    "import torch.optim as optim\n",
    "import torch.utils.data as Data"
   ]
  },
  {
   "cell_type": "code",
   "execution_count": 5,
   "metadata": {},
   "outputs": [
    {
     "data": {
      "text/plain": [
       "40"
      ]
     },
     "execution_count": 5,
     "metadata": {},
     "output_type": "execute_result"
    }
   ],
   "source": [
    "text = (\n",
    "    'Hello, how are you? I am Romeo.\\n'  # R\n",
    "    'Hello, Romeo My name is Juliet. Nice to meet you.\\n'  # J\n",
    "    'Nice meet you too. How are you today?\\n'  # R\n",
    "    'Great. My baseball team won the competition.\\n'  # J\n",
    "    'Oh Congratulations, Juliet\\n'  # R\n",
    "    'Thank you Romeo\\n'  # J\n",
    "    'Where are you going today?\\n'  # R\n",
    "    'I am going shopping. What about you?\\n'  # J\n",
    "    'I am going to visit my grandmother. she is not very well'  # R\n",
    ")\n",
    "\n",
    "# 过滤 '.' ',' '?' '!' '\\' '-'\n",
    "sentence = re.sub(\"[.,!?\\\\-]\" , '', text.lower()).split('\\n')\n",
    "word_list = list(set(\" \".join(sentence).split()))    \n",
    "word2id = {'[PAD]':0, '[CLS]':1, '[SEP]':2 , '[MASK]':3}\n",
    "for i,w in enumerate(word_list):\n",
    "    word2id[w] = i+4\n",
    "id2_word = {i:w for i,w in enumerate(word2id)}\n",
    "vocab_size = len(word2id)\n",
    "vocab_size"
   ]
  },
  {
   "cell_type": "code",
   "execution_count": null,
   "metadata": {},
   "outputs": [],
   "source": []
  }
 ],
 "metadata": {
  "kernelspec": {
   "display_name": "Python 3",
   "language": "python",
   "name": "python3"
  },
  "language_info": {
   "codemirror_mode": {
    "name": "ipython",
    "version": 3
   },
   "file_extension": ".py",
   "mimetype": "text/x-python",
   "name": "python",
   "nbconvert_exporter": "python",
   "pygments_lexer": "ipython3",
   "version": "3.7.6"
  }
 },
 "nbformat": 4,
 "nbformat_minor": 4
}
