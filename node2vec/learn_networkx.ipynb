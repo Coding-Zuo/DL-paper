{
 "cells": [
  {
   "cell_type": "code",
   "execution_count": 1,
   "metadata": {},
   "outputs": [],
   "source": [
    "import networkx as nx\n",
    "import matplotlib.pyplot as plt\n",
    "import numpy as np"
   ]
  },
  {
   "cell_type": "code",
   "execution_count": 2,
   "metadata": {},
   "outputs": [],
   "source": [
    "G = nx.Graph() # Graph是节点的集合以及确定的节点对(边、链接等) (一个节点集合一个边集)"
   ]
  },
  {
   "cell_type": "markdown",
   "metadata": {},
   "source": [
    "# Graph的结构\n",
    "根据Graph的定义，一个Graph包含一个节点集合一个边集<br>\n",
    "在networkx中，一个节点可以是任意hash对象(除了None对象，一个边可以关联任意对象<br>\n",
    "节点和边能存储任意类型字典的属性和任意其他丰富类型的数据\n",
    "\n",
    "- Graph:无向图图\n",
    "- DiGraph:有向图\n",
    "- MultiGraph：多重无向图(两个接地那之间的边数多于一条，又允许顶点通过同一条边和自己关联)\n",
    "- MultiDiGraph:多重图的有向版本\n"
   ]
  },
  {
   "cell_type": "code",
   "execution_count": 3,
   "metadata": {},
   "outputs": [],
   "source": [
    "G = nx.Graph # 创建无向图\n",
    "G = nx.DiGraph() \n",
    "G = nx.MultiGraph()\n",
    "G = nx.MultiDiGraph()\n",
    "\n",
    "G.clear() #清空图"
   ]
  },
  {
   "cell_type": "markdown",
   "metadata": {},
   "source": [
    "# 基本操作\n",
    "\n",
    "## 无向图\n",
    "如果添加的节点和边是已经存在的，是不会报错的，NetworkX会自动忽略掉已经存在的边和节点的添加。"
   ]
  },
  {
   "cell_type": "code",
   "execution_count": 4,
   "metadata": {},
   "outputs": [
    {
     "data": {
      "image/png": "[encoded data removed]",
      "text/plain": [
       "<Figure size 432x288 with 1 Axes>"
      ]
     },
     "metadata": {},
     "output_type": "display_data"
    }
   ],
   "source": [
    "G = nx.Graph()\n",
    "G.add_node('a') # 添加一个节点 \n",
    "G.add_nodes_from(['b','c','d','e']) # 添加点集合\n",
    "# G.add_cycle(['f','g','h','j']) #加环\n",
    "\n",
    "H = nx.path_graph(10) # 返回由10个节点挨个链接的无向图，所以有9个边\n",
    "G.add_nodes_from(H) #创建一个子图H 加入G\n",
    "G.add_node(H) # 直接将图作为节点\n",
    "\n",
    "nx.draw(G,with_labels=True)\n",
    "plt.show()"
   ]
  },
  {
   "cell_type": "code",
   "execution_count": 5,
   "metadata": {},
   "outputs": [
    {
     "name": "stdout",
     "output_type": "stream",
     "text": [
      "图中所有的节点 ['a', 'b', 'c', 'd', 'e', 0, 1, 2, 3, 4, 5, 6, 7, 8, 9, <networkx.classes.graph.Graph object at 0x12a19d050>]\n",
      "图中节点的个数 16\n"
     ]
    }
   ],
   "source": [
    "# 访问节点\n",
    "print('图中所有的节点',G.nodes())\n",
    "print('图中节点的个数',G.number_of_nodes())"
   ]
  },
  {
   "cell_type": "code",
   "execution_count": 6,
   "metadata": {},
   "outputs": [
    {
     "data": {
      "image/png": "[encoded data removed]",
      "text/plain": [
       "<Figure size 432x288 with 1 Axes>"
      ]
     },
     "metadata": {},
     "output_type": "display_data"
    }
   ],
   "source": [
    "# 删除节点\n",
    "G.remove_node(1) # 删除指定节点\n",
    "G.remove_nodes_from(['b','c','d','e']) #删除指定节点\n",
    "nx.draw(G, with_labels=True)\n",
    "plt.show()"
   ]
  },
  {
   "cell_type": "markdown",
   "metadata": {},
   "source": [
    "# 边\n",
    "https://blog.csdn.net/weixin_39972567/article/details/111583018\n",
    "https://www.cnblogs.com/HeZhengfa/p/10296508.html"
   ]
  },
  {
   "cell_type": "code",
   "execution_count": 7,
   "metadata": {},
   "outputs": [
    {
     "data": {
      "image/png": "[encoded data removed]",
      "text/plain": [
       "<Figure size 432x288 with 1 Axes>"
      ]
     },
     "metadata": {},
     "output_type": "display_data"
    }
   ],
   "source": [
    "F = nx.Graph()\n",
    "F.add_edge(11,12) \n",
    "\n",
    "e = (13,14)\n",
    "F.add_edge(*e) #python解包裹过程\n",
    "\n",
    "F.add_edges_from([(1,2),(1,3)])\n",
    "\n",
    "# 通过添加任何ebunch来添加边\n",
    "F.add_edges_from(H.edges()) #不能写成 F.add_edges_from(H)\n",
    "\n",
    "def drawGraph(graph):\n",
    "    nx.draw(graph, with_labels=True)\n",
    "    plt.show()\n",
    "    \n",
    "drawGraph(F)"
   ]
  },
  {
   "cell_type": "code",
   "execution_count": 8,
   "metadata": {},
   "outputs": [
    {
     "name": "stdout",
     "output_type": "stream",
     "text": [
      "图中所有的边 [(11, 12), (13, 14), (1, 2), (1, 3), (1, 0), (2, 3), (3, 4), (4, 5), (5, 6), (6, 7), (7, 8), (8, 9)]\n",
      "图中边的个数 12\n"
     ]
    }
   ],
   "source": [
    "# 访问边\n",
    "print('图中所有的边',F.edges())\n",
    "print('图中边的个数',F.number_of_edges())"
   ]
  },
  {
   "cell_type": "code",
   "execution_count": 9,
   "metadata": {},
   "outputs": [
    {
     "name": "stdout",
     "output_type": "stream",
     "text": [
      "{2: {'weight': 0.125}, 3: {'weight': 0.75}}\n",
      "{'weight': 0.125}\n",
      "(1, 2, 0.125)\n",
      "{'weight': 0.75}\n",
      "(1, 3, 0.750)\n",
      "{1: {'weight': 0.125}, 4: {'weight': 1.2}}\n",
      "{'weight': 0.125}\n",
      "(2, 1, 0.125)\n",
      "{'weight': 1.2}\n",
      "(2, 4, 1.200)\n",
      "{1: {'weight': 0.75}, 4: {'weight': 0.275}}\n",
      "{'weight': 0.75}\n",
      "(3, 1, 0.750)\n",
      "{'weight': 0.275}\n",
      "(3, 4, 0.275)\n",
      "{2: {'weight': 1.2}, 3: {'weight': 0.275}}\n",
      "{'weight': 1.2}\n",
      "(4, 2, 1.200)\n",
      "{'weight': 0.275}\n",
      "(4, 3, 0.275)\n"
     ]
    }
   ],
   "source": [
    "# 快速遍历每条边，可以使用临界迭代器实现，对于无向图，每一条边相当于两条有向边\n",
    "FG = nx.Graph()\n",
    "FG.add_weighted_edges_from([(1,2,0.125), (1,3,0.75), (2,4,1.2), (3,4,0.275)])\n",
    "for n,nbrs in FG.adjacency():\n",
    "    print(nbrs)\n",
    "    for nbr, eattr in nbrs.items():\n",
    "        print(eattr)\n",
    "        data = eattr['weight']\n",
    "        print('(%d, %d, %0.3f)' % (n, nbr, data))"
   ]
  },
  {
   "cell_type": "code",
   "execution_count": 10,
   "metadata": {},
   "outputs": [
    {
     "data": {
      "text/plain": [
       "(1, {2: {'weight': 0.125}, 3: {'weight': 0.75}})"
      ]
     },
     "execution_count": 10,
     "metadata": {},
     "output_type": "execute_result"
    }
   ],
   "source": [
    "next(iter(FG.adjacency()))"
   ]
  },
  {
   "cell_type": "code",
   "execution_count": 11,
   "metadata": {},
   "outputs": [
    {
     "name": "stdout",
     "output_type": "stream",
     "text": [
      "(1, 2, 0.125)\n",
      "(2, 1, 0.125)\n",
      "(3, 4, 0.275)\n",
      "(4, 3, 0.275)\n"
     ]
    }
   ],
   "source": [
    "# 筛选weight小于0.5的边\n",
    "FG = nx.Graph()\n",
    "FG.add_weighted_edges_from([(1,2,0.125), (1,3,0.75), (2,4,1.2), (3,4,0.275)])\n",
    "for n, nbrs in FG.adjacency():\n",
    "    for nbr, eattr in nbrs.items():\n",
    "        data = eattr['weight']\n",
    "        if data < 0.5:\n",
    "            print('(%d, %d, %0.3f)' % (n,nbr,data))"
   ]
  },
  {
   "cell_type": "code",
   "execution_count": 12,
   "metadata": {},
   "outputs": [
    {
     "name": "stdout",
     "output_type": "stream",
     "text": [
      "(1, 2, 0.125)\n",
      "(1, 3, 0.75)\n",
      "(2, 4, 1.2)\n",
      "(3, 4, 0.275)\n"
     ]
    }
   ],
   "source": [
    "#一种方便的访问所有边的方法:\n",
    "for u,v,d in FG.edges(data = 'weight'):\n",
    "    print((u,v,d))"
   ]
  },
  {
   "cell_type": "code",
   "execution_count": 13,
   "metadata": {},
   "outputs": [
    {
     "data": {
      "image/png": "[encoded data removed]",
      "text/plain": [
       "<Figure size 432x288 with 1 Axes>"
      ]
     },
     "metadata": {},
     "output_type": "display_data"
    }
   ],
   "source": [
    "# 删除边\n",
    "F.remove_edge(1,2)\n",
    "F.remove_edges_from([(11,12),(13,14)])\n",
    "drawGraph(F)"
   ]
  },
  {
   "cell_type": "markdown",
   "metadata": {},
   "source": [
    "# 属性\n",
    "- 属性诸如weight,labels,colors,或者任何对象，你都可以附加到图、节点或边上。\n",
    "\n",
    "- 对于每一个图、节点和边都可以在关联的属性字典中保存一个（多个）键-值对。\n",
    "\n",
    "- 默认情况下这些是一个空的字典，但是我们可以增加或者是改变这些属性。"
   ]
  },
  {
   "cell_type": "code",
   "execution_count": 14,
   "metadata": {},
   "outputs": [
    {
     "name": "stdout",
     "output_type": "stream",
     "text": [
      "{'day': 'Monday'}\n",
      "{'day': 'Friday'}\n",
      "{'day': 'Friday', 'name': 'time'}\n"
     ]
    }
   ],
   "source": [
    "# 图的属性\n",
    "G = nx.Graph(day = 'Monday') # 可以再创建图时，分配图的属性\n",
    "print(G.graph)\n",
    "\n",
    "G.graph['day'] = 'Friday' # 也可以修改已有的属性\n",
    "print(G.graph)\n",
    "\n",
    "G.graph['name'] = 'time' #随时添加\n",
    "print(G.graph)"
   ]
  },
  {
   "cell_type": "code",
   "execution_count": 15,
   "metadata": {},
   "outputs": [
    {
     "name": "stdout",
     "output_type": "stream",
     "text": [
      "[(1, {'index': '1th'})]\n",
      "[(1, {'index': '0th'})]\n",
      "[(1, {'index': '0th'}), (2, {'index': '2/3th'}), (3, {'index': '2/3th'})]\n"
     ]
    }
   ],
   "source": [
    "# 节点的属性\n",
    "G = nx.Graph(day='Monday')\n",
    "G.add_node(1, index='1th') # 在添加节点时分配节点属性\n",
    "print(G.nodes(data=True))\n",
    "\n",
    "G.nodes[1]['index'] = '0th' # 修改\n",
    "print(G.nodes(data=True))\n",
    "\n",
    "G.add_nodes_from([2,3],index='2/3th') #从集合中添加节点时分配属性\n",
    "print(G.nodes(data=True))"
   ]
  },
  {
   "cell_type": "code",
   "execution_count": 16,
   "metadata": {},
   "outputs": [
    {
     "name": "stdout",
     "output_type": "stream",
     "text": [
      "[(1, 2, {'weight': 10})]\n",
      "[(1, {}), (2, {})]\n",
      "[(1, 2, None), (1, 3, 22), (4, 5, 22)]\n",
      "[(1, 2, {'weight': 10}), (1, 3, {'len': 22}), (1, 4, {'high': 'unknow'}), (3, 4, {'hight': 10}), (4, 5, {'len': 22})]\n",
      "[(1, 2, {'weight': 10000}), (1, 3, {'len': 22}), (1, 4, {'high': 'unknow'}), (3, 4, {'hight': 10}), (4, 5, {'len': 22})]\n"
     ]
    }
   ],
   "source": [
    "# 边的属性\n",
    "G = nx.Graph(day='monday')\n",
    "G.add_edge(1,2,weight=10) # 在添加边时分配属性\n",
    "print(G.edges(data=True))\n",
    "print(G.nodes(data=True))\n",
    "\n",
    "G.add_edges_from([(1,3),(4,5)],len=22)\n",
    "print(G.edges(data='len'))\n",
    "\n",
    "G.add_edges_from([(3,4,{'hight':10}), (1,4,{'high':'unknow'})])\n",
    "print(G.edges(data=True))\n",
    "\n",
    "G[1][2]['weight']=10000\n",
    "print(G.edges(data=True))"
   ]
  },
  {
   "cell_type": "markdown",
   "metadata": {},
   "source": [
    "# 其他图"
   ]
  },
  {
   "cell_type": "code",
   "execution_count": 17,
   "metadata": {},
   "outputs": [],
   "source": [
    "# 有向图转无向图\n",
    "H = G.to_undirected()\n",
    "H = nx.Graph(G)\n",
    "\n",
    "# 无向图转化成有向图\n",
    "F = H.to_directed()\n",
    "F = nx.DiGraph(H)"
   ]
  },
  {
   "cell_type": "markdown",
   "metadata": {},
   "source": [
    "# Function\n",
    "\n",
    "## 图\n",
    "- degree(G[, nbunch, weight])：返回单个节点或nbunch节点的度数视图。 \n",
    "\n",
    "- degree_histogram(G)：返回每个度值的频率列表。\n",
    "\n",
    "- density(G)：返回图的密度。\n",
    "\n",
    "- info(G[, n])：打印图G或节点n的简短信息摘要。\n",
    "\n",
    "- create_empty_copy(G[, with_data])：返回图G删除所有的边的拷贝。\n",
    "\n",
    "- is_directed(G)：如果图是有向的，返回true。\n",
    "\n",
    "- add_star(G_to_add_to, nodes_for_star, **attr)：在图形G_to_add_to上添加一个星形。\n",
    "\n",
    "- add_path(G_to_add_to, nodes_for_path, **attr)：在图G_to_add_to中添加一条路径。\n",
    "\n",
    "- add_cycle(G_to_add_to, nodes_for_cycle, **attr)：向图形G_to_add_to添加一个循环。\n",
    "\n",
    "## 节点\n",
    "- nodes(G)：在图节点上返回一个迭代器。\n",
    "\n",
    "- number_of_nodes(G)：返回图中节点的数量。\n",
    "\n",
    "- all_neighbors(graph, node)：返回图中节点的所有邻居。\n",
    "\n",
    "- non_neighbors(graph, node)：返回图中没有邻居的节点。\n",
    "\n",
    "- common_neighbors(G, u, v)：返回图中两个节点的公共邻居。\n",
    "\n",
    "## 边\n",
    "- edges(G[, nbunch])：返回与nbunch中的节点相关的边的视图。\n",
    "\n",
    "- number_of_edges(G)：返回图中边的数目。\n",
    "\n",
    "- non_edges(graph)：返回图中不存在的边。"
   ]
  },
  {
   "cell_type": "code",
   "execution_count": 18,
   "metadata": {},
   "outputs": [
    {
     "data": {
      "image/png": "[encoded data removed]",
      "text/plain": [
       "<Figure size 432x288 with 1 Axes>"
      ]
     },
     "metadata": {},
     "output_type": "display_data"
    }
   ],
   "source": [
    "# 在networkx中列出特定的节点或边缘\n",
    "G = nx.Graph()\n",
    "G.add_edges_from([('n','n1'),('n','n2'),('n','n3')])\n",
    "G.add_edges_from([('n4', 'n41'), ('n1', 'n11'), ('n1', 'n12'), ('n1', 'n13')])\n",
    "G.add_edges_from([('n2', 'n21'), ('n2', 'n22')])\n",
    "G.add_edges_from([('n13', 'n131'), ('n22', 'n221')])\n",
    "G.add_edges_from([('n131', 'n221'), ('n221', 'n131')])\n",
    "G.add_node('n5')\n",
    "drawGraph(G)"
   ]
  },
  {
   "cell_type": "code",
   "execution_count": 26,
   "metadata": {},
   "outputs": [
    {
     "data": {
      "text/plain": [
       "['n',\n",
       " 'n1',\n",
       " 'n2',\n",
       " 'n3',\n",
       " 'n4',\n",
       " 'n41',\n",
       " 'n11',\n",
       " 'n12',\n",
       " 'n13',\n",
       " 'n21',\n",
       " 'n22',\n",
       " 'n131',\n",
       " 'n221']"
      ]
     },
     "execution_count": 26,
     "metadata": {},
     "output_type": "execute_result"
    }
   ],
   "source": [
    "# 使用out_degree查询所有带子项的节点：\n",
    "[k for k,v in G.degree() if v>0]"
   ]
  },
  {
   "cell_type": "code",
   "execution_count": 28,
   "metadata": {},
   "outputs": [
    {
     "data": {
      "text/plain": [
       "['n5']"
      ]
     },
     "execution_count": 28,
     "metadata": {},
     "output_type": "execute_result"
    }
   ],
   "source": [
    "# 所有没有孩子的节点\n",
    "[k for k,v in G.degree() if v==0]"
   ]
  },
  {
   "cell_type": "markdown",
   "metadata": {},
   "source": [
    "# 经典图论算法\n",
    "## 最短路径"
   ]
  },
  {
   "cell_type": "code",
   "execution_count": 32,
   "metadata": {},
   "outputs": [
    {
     "name": "stdout",
     "output_type": "stream",
     "text": [
      "生成一个空的有向图\n",
      "为这个网络添加节点。。\n",
      "在网络中添加带权的边\n",
      "给网络设置布局\n"
     ]
    },
    {
     "data": {
      "image/png": "[encoded data removed]",
      "text/plain": [
       "<Figure size 432x288 with 1 Axes>"
      ]
     },
     "metadata": {},
     "output_type": "display_data"
    }
   ],
   "source": [
    "#自定义网络\n",
    "row=np.array([0,0,0,1,2,3,6])\n",
    "col=np.array([1,2,3,4,5,6,7])\n",
    "value=np.array([1,2,1,8,1,3,5])\n",
    "\n",
    "print('生成一个空的有向图')\n",
    "G=nx.DiGraph()\n",
    "print(\"为这个网络添加节点。。\")\n",
    "for i in range(0,np.size(col)+1):\n",
    "    G.add_node(i)\n",
    "print(\"在网络中添加带权的边\")\n",
    "for i in range(np.size(row)):\n",
    "    G.add_weighted_edges_from([(row[i],col[i],value[i])])\n",
    "    \n",
    "print(\"给网络设置布局\")\n",
    "pos = nx.shell_layout(G)\n",
    "nx.draw(G, pos, with_labels=True, node_color='white', edge_color='red', node_size=400,alpha=0.5)\n",
    "plt.title('Self_Define Net',fontsize=15)\n",
    "plt.show()"
   ]
  },
  {
   "cell_type": "code",
   "execution_count": 34,
   "metadata": {},
   "outputs": [
    {
     "name": "stdout",
     "output_type": "stream",
     "text": [
      "dijkstra找最短路径\n",
      "节点0到7的路径： [0, 3, 6, 7]\n"
     ]
    }
   ],
   "source": [
    "print('dijkstra找最短路径')\n",
    "path = nx.dijkstra_path(G, source=0, target=7)\n",
    "print('节点0到7的路径：',path)"
   ]
  },
  {
   "cell_type": "code",
   "execution_count": 35,
   "metadata": {},
   "outputs": [
    {
     "data": {
      "text/plain": [
       "9"
      ]
     },
     "execution_count": 35,
     "metadata": {},
     "output_type": "execute_result"
    }
   ],
   "source": [
    "distance = nx.dijkstra_path_length(G, source=0, target=7)\n",
    "distance"
   ]
  },
  {
   "cell_type": "markdown",
   "metadata": {},
   "source": [
    "## 最小生成树\n",
    "定义：一个有n个节点的连通图的生成树是原图的极小连通子图，且包含原图中的所有n个节点，且有保持图连通的最少的边。"
   ]
  },
  {
   "cell_type": "code",
   "execution_count": 36,
   "metadata": {},
   "outputs": [],
   "source": [
    "def prim(G, s):\n",
    "    dist = {} #dist记录到节点的最小距离\n",
    "    parent = {} # parent记录最小生成树的双亲表\n",
    "    Q = list(G.nodes()) # Q 包含所有未被生成树覆盖的节点\n",
    "    MAXDIST=99999 # 表两点不邻接\n",
    "    \n",
    "    # 初始化数据\n",
    "    # 所有节点的最小距离设置为MAXDIST 父节点为None\n",
    "    for v in G.nodes():\n",
    "        dist[v] = MAXDIST\n",
    "        parent[v] = None\n",
    "    \n",
    "    #到开始节点s的距离设置为0\n",
    "    dist[s] = 0\n",
    "    \n",
    "    # 不断从Q中取出最近的节点加入最小生成树\n",
    "    # 当Q为空时停止循环，算法结束\n",
    "    while Q:\n",
    "        # 取出最近的节点u，把u加到最小生成树\n",
    "        u = Q[0]\n",
    "        for v in Q:\n",
    "            if(dist[v] < dist[u]):\n",
    "                u = v\n",
    "        Q.remove(u)\n",
    "        \n",
    "        #更新u的邻接节点的最小距离\n",
    "        for v in G.adj[u]:\n",
    "            if (v in Q) and (G[u][v]['weight'] < dist[v]):\n",
    "                parent[v] = u\n",
    "                dist[v] = G[u][v]['weight']\n",
    "    return parent"
   ]
  },
  {
   "cell_type": "code",
   "execution_count": null,
   "metadata": {},
   "outputs": [],
   "source": []
  },
  {
   "cell_type": "code",
   "execution_count": null,
   "metadata": {},
   "outputs": [],
   "source": []
  },
  {
   "cell_type": "markdown",
   "metadata": {},
   "source": [
    "# 画图"
   ]
  },
  {
   "cell_type": "code",
   "execution_count": 38,
   "metadata": {},
   "outputs": [
    {
     "ename": "ModuleNotFoundError",
     "evalue": "No module named 'graph'",
     "output_type": "error",
     "traceback": [
      "\u001b[0;31m---------------------------------------------------------------------------\u001b[0m",
      "\u001b[0;31mModuleNotFoundError\u001b[0m                       Traceback (most recent call last)",
      "\u001b[0;32m<ipython-input-38-0e98d32b7ddd>\u001b[0m in \u001b[0;36m<module>\u001b[0;34m\u001b[0m\n\u001b[0;32m----> 1\u001b[0;31m \u001b[0;32mfrom\u001b[0m \u001b[0mgraph\u001b[0m\u001b[0;34m.\u001b[0m\u001b[0mGraph\u001b[0m \u001b[0;32mimport\u001b[0m \u001b[0mGraph\u001b[0m\u001b[0;34m\u001b[0m\u001b[0;34m\u001b[0m\u001b[0m\n\u001b[0m\u001b[1;32m      2\u001b[0m \u001b[0;32mfrom\u001b[0m \u001b[0malgorithms_prev\u001b[0m\u001b[0;34m.\u001b[0m\u001b[0mdijkstra_prev\u001b[0m \u001b[0;32mimport\u001b[0m \u001b[0;34m*\u001b[0m\u001b[0;34m\u001b[0m\u001b[0;34m\u001b[0m\u001b[0m\n\u001b[1;32m      3\u001b[0m \u001b[0;32mfrom\u001b[0m \u001b[0malgorithms_prev\u001b[0m\u001b[0;34m.\u001b[0m\u001b[0mforest_pred\u001b[0m \u001b[0;32mimport\u001b[0m \u001b[0;34m*\u001b[0m\u001b[0;34m\u001b[0m\u001b[0;34m\u001b[0m\u001b[0m\n\u001b[1;32m      4\u001b[0m \u001b[0;32mfrom\u001b[0m \u001b[0malgorithms_prev\u001b[0m\u001b[0;34m.\u001b[0m\u001b[0mabm_pred\u001b[0m \u001b[0;32mimport\u001b[0m \u001b[0;34m*\u001b[0m\u001b[0;34m\u001b[0m\u001b[0;34m\u001b[0m\u001b[0m\n\u001b[1;32m      5\u001b[0m \u001b[0;34m\u001b[0m\u001b[0m\n",
      "\u001b[0;31mModuleNotFoundError\u001b[0m: No module named 'graph'"
     ]
    }
   ],
   "source": [
    "from graph.Graph import Graph\n",
    "from algorithms_prev.dijkstra_prev import *\n",
    "from algorithms_prev.forest_pred import *\n",
    "from algorithms_prev.abm_pred import *\n",
    "\n",
    "options = {\n",
    "    'node_color': 'red',\n",
    "    'node_size': 300,\n",
    "    'with_labels': True,\n",
    "}\n",
    "G = createGraph(20, 5, 0.1)\n",
    "g, rings = getRelaxTree(G)\n",
    "\n",
    "#  画生成图\n",
    "plt.sca(plt.subplot(121))\n",
    "nx.draw_shell(G, **options)\n",
    "\n",
    "#  画松弛树\n",
    "plt.sca(plt.subplot(122)) \n",
    "pos = nx.shell_layout(g)\n",
    "li = list(g.nodes)\n",
    "nx.draw_networkx_nodes(g, pos, nodelist=li)\n",
    "nx.draw_networkx_edges(g, pos)\n",
    "\n",
    "#  将R节点用不同颜色标记\n",
    "R = []\n",
    "for n in g.nodes:\n",
    "    if 'isR' in G.nodes[n]:\n",
    "        R.append(n)\n",
    "nx.draw_networkx_nodes(g, pos, nodelist=R, label='a', node_color='g', node_size=500)\n",
    "\n",
    "\n",
    "def getWeight(i):\n",
    "    for e in g.edges:\n",
    "        if e[1] == i:\n",
    "            return (G.edges[e]['weight'])\n",
    "    return 0\n",
    "\n",
    "\n",
    "def getMiddlePos(e, p):\n",
    "    x = np.array(p[e[0]])\n",
    "    y = np.array(p[e[1]])\n",
    "    z = (x + y) / 2\n",
    "    return tuple(z)\n",
    "\n",
    "#  绘制节点号\n",
    "lables = {}\n",
    "for i in li:\n",
    "    lables[i] = i\n",
    "nx.draw_networkx_labels(g, pos, lables)\n",
    "\n",
    "#  绘制各边权重\n",
    "for i in li:  # 修改标签为各边权重\n",
    "    lables[i] = getWeight(i)\n",
    "lables[0] = ''\n",
    "\n",
    "pos2 = {}\n",
    "for e in g.edges:\n",
    "    pos2[e[1]] = getMiddlePos(e, pos)\n",
    "    pos2[0] = (0, 0)\n",
    "nx.draw_networkx_labels(g, pos2, lables, font_color='b')\n",
    "plt.show()"
   ]
  },
  {
   "cell_type": "code",
   "execution_count": null,
   "metadata": {},
   "outputs": [],
   "source": []
  }
 ],
 "metadata": {
  "kernelspec": {
   "display_name": "Python 3",
   "language": "python",
   "name": "python3"
  },
  "language_info": {
   "codemirror_mode": {
    "name": "ipython",
    "version": 3
   },
   "file_extension": ".py",
   "mimetype": "text/x-python",
   "name": "python",
   "nbconvert_exporter": "python",
   "pygments_lexer": "ipython3",
   "version": "3.7.6"
  }
 },
 "nbformat": 4,
 "nbformat_minor": 4
}
