{
 "cells": [
  {
   "cell_type": "code",
   "execution_count": 1,
   "metadata": {},
   "outputs": [],
   "source": [
    "from tensorflow.keras import layers,models,Model,Sequential\n",
    "import tensorflow as tf"
   ]
  },
  {
   "cell_type": "code",
   "execution_count": 2,
   "metadata": {},
   "outputs": [],
   "source": [
    "def AlexNet_v1(im_height=224,im_width=224,class_num=1000):\n",
    "    # tensorflow中的tensor通道排序是 NHWC\n",
    "    input_image = layers.Input(shape=(im_height,im_width,3),dtype='float32')                                          # output(None,224,224,3)\n",
    "    x = layers.ZeroPadding2D(((1,2),(1,2)))(input_image)      # 输入通道的上方补一行0 下方补两行0 左边补一行0 右边补两行0     # output(None,227,227,3)\n",
    "    x = layers.Conv2D(48,kernel_size=11,strides=4,activation='relu')(x)     # output(None,55,55,48)\n",
    "    x = layers.MaxPool2D(pool_size=3,strides=2)(x)                           # output(None,27,27,48)\n",
    "    \n",
    "    x = layers.Conv2D(128,kernel_size=5,padding='same',activation='relu')(x)  # output(None,27,27,128)\n",
    "    x = layers.MaxPool2D(pool_size=3,strides=2)(x)                           # output(None,13,13,192)\n",
    "\n",
    "    x = layers.Conv2D(192,kernel_size=3,padding='same',activation='relu')(x) # output(None,13,13,192)\n",
    "    x = layers.Conv2D(192,kernel_size=3,padding='same',activation='relu')(x) # output(None,13,13,192)\n",
    "    x = layers.Conv2D(128,kernel_size=3,padding='same',activation='relu')(x) # output(None,13,13,128)\n",
    "    x = layers.MaxPool2D(pool_size=3,strides=2)(x)                           # output(None,6,6,128)\n",
    "    \n",
    "    x = layers.Flatten()(x)                                                  # output(None,6*6*128)\n",
    "    x = layers.Dropout(0.2)(x)\n",
    "    x = layers.Dense(2048,activation='relu')(x)                             # output(None,2048)\n",
    "    x = layers.Dropout(0.2)(x)\n",
    "    x = layers.Dense(2048,activation='relu')(x)                             # output(None,2048)\n",
    "    x = layers.Dense(class_num)(x)\n",
    "    \n",
    "    predict = layers.Softmax()(x)\n",
    "    \n",
    "    model = models.Model(inputs=input_image,outputs=predict)\n",
    "    return model"
   ]
  },
  {
   "cell_type": "code",
   "execution_count": 3,
   "metadata": {},
   "outputs": [],
   "source": [
    "class AlexNet_v2(Model):\n",
    "    def __init__(self,class_num=1000):\n",
    "        super(AlexNet_v2,self).__init__()\n",
    "        self.features = Sequential([\n",
    "            layers.ZeroPadding2D(((1,2),(1,2))),\n",
    "            layers.Conv2D(48,kernel_size=11,strides=4,activation='relu'),\n",
    "            layers.MaxPool2D(pool_size=3,strides=2),\n",
    "            layers.Conv2D(128,kernel_size=5,padding='same',activation='relu'),\n",
    "            layers.MaxPool2D(pool_size=3,strides=2),\n",
    "            layers.Conv2D(192,kernel_size=3,padding='same',activation='relu'),\n",
    "            layers.Conv2D(192,kernel_size=3,padding='same',activation='relu'),\n",
    "            layers.Conv2D(128,kernel_size=3,padding='same',activation='relu'),\n",
    "            layers.Conv2D(pool_size=3,strides=2)\n",
    "        ])\n",
    "        self.flatten = layers.Flatten()\n",
    "        self.classifier = Sequential([\n",
    "            layers.Dropout(0.2),\n",
    "            layers.Dense(1024,activation='relu'),\n",
    "            layers.Dropout(0.2),\n",
    "            layers.Dense(128,activation='relu'),\n",
    "            layers.Dense(class_num),\n",
    "            layers.Softmax()\n",
    "        ])\n",
    "        \n",
    "    def call(self,inputs,**kwargs):\n",
    "        x = self.features(inputs)\n",
    "        x = self.flatten(x)\n",
    "        x = self.classifier(x)\n",
    "        return x"
   ]
  },
  {
   "cell_type": "code",
   "execution_count": 4,
   "metadata": {},
   "outputs": [],
   "source": [
    "def AlexNet_v1_2gpu(im_height=224,im_width=224,class_num=1000):\n",
    "     # tensorflow中的tensor通道排序是 NHWC\n",
    "    input_image = layers.Input(shape=(im_height,im_width,3),dtype='float32')                                          # output(None,224,224,3)\n",
    "    x = layers.ZeroPadding2D(((1,2),(1,2)))(input_image)      # 输入通道的上方补一行0 下方补两行0 左边补一行0 右边补两行0     # output(None,227,227,3)\n",
    "    x = layers.Conv2D(96,kernel_size=11,strides=4,activation='relu')(x)     # output(None,55,55,48)\n",
    "    x = layers.MaxPool2D(pool_size=3,strides=2)(x)                           # output(None,27,27,48)\n",
    "\n",
    "    x = layers.Conv2D(256,kernel_size=5,padding='same',activation='relu')(x)  # output(None,27,27,128)\n",
    "    x = layers.MaxPool2D(pool_size=3,strides=2)(x)                           # output(None,13,13,192)\n",
    "\n",
    "    x = layers.Conv2D(384,kernel_size=3,padding='same',activation='relu')(x) # output(None,13,13,192)\n",
    "    x = layers.Conv2D(384,kernel_size=3,padding='same',activation='relu')(x) # output(None,13,13,192)\n",
    "    x = layers.Conv2D(256,kernel_size=3,padding='same',activation='relu')(x) # output(None,13,13,128)\n",
    "    x = layers.MaxPool2D(pool_size=3,strides=2)(x)                           # output(None,6,6,128)\n",
    "\n",
    "    x = layers.Flatten()(x)                                                  # output(None,6*6*128)\n",
    "    x = layers.Dropout(0.2)(x)\n",
    "    x = layers.Dense(4096,activation='relu')(x)                             # output(None,2048)\n",
    "    x = layers.Dropout(0.2)(x)\n",
    "    x = layers.Dense(4096,activation='relu')(x)                             # output(None,2048)\n",
    "    x = layers.Dense(class_num)(x)\n",
    "    \n",
    "    predict = layers.Softmax()(x)\n",
    "    \n",
    "    model = models.Model(inputs=input_image,outputs=predict)\n",
    "    return model"
   ]
  },
  {
   "cell_type": "code",
   "execution_count": null,
   "metadata": {},
   "outputs": [],
   "source": []
  },
  {
   "cell_type": "code",
   "execution_count": null,
   "metadata": {},
   "outputs": [],
   "source": []
  }
 ],
 "metadata": {
  "kernelspec": {
   "display_name": "Python 3",
   "language": "python",
   "name": "python3"
  },
  "language_info": {
   "codemirror_mode": {
    "name": "ipython",
    "version": 3
   },
   "file_extension": ".py",
   "mimetype": "text/x-python",
   "name": "python",
   "nbconvert_exporter": "python",
   "pygments_lexer": "ipython3",
   "version": "3.7.6"
  }
 },
 "nbformat": 4,
 "nbformat_minor": 4
}
