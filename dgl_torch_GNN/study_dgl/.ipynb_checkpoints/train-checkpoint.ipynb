{
 "cells": [
  {
   "cell_type": "code",
   "execution_count": 1,
   "metadata": {},
   "outputs": [
    {
     "name": "stdout",
     "output_type": "stream",
     "text": [
      "importing Jupyter notebook from model.ipynb\n"
     ]
    }
   ],
   "source": [
    "import torch\n",
    "import torch.nn as nn\n",
    "from torchvision import transforms,datasets\n",
    "import json\n",
    "import matplotlib.pyplot as plt\n",
    "import os\n",
    "import matplotlib.pyplot as plt\n",
    "import torch.optim as optim\n",
    "import import_ipynb\n",
    "from model import resnet34,resnet50,resnet101"
   ]
  },
  {
   "cell_type": "code",
   "execution_count": 2,
   "metadata": {},
   "outputs": [
    {
     "name": "stdout",
     "output_type": "stream",
     "text": [
      "using cuda:0 device\n"
     ]
    }
   ],
   "source": [
    "device = torch.device(\"cuda:0\" if torch.cuda.is_available() else \"cpu\")\n",
    "print(\"using {} device\".format(device))"
   ]
  },
  {
   "cell_type": "code",
   "execution_count": 3,
   "metadata": {},
   "outputs": [],
   "source": [
    "data_transform = {\n",
    "    \"train\":transforms.Compose([\n",
    "        transforms.RandomResizedCrop(224),\n",
    "        transforms.RandomHorizontalFlip(),\n",
    "        transforms.ToTensor(),\n",
    "        transforms.Normalize([0.485, 0.456, 0.406], [0.229, 0.224, 0.225])\n",
    "    ]),\n",
    "    \"val\":transforms.Compose([\n",
    "        transforms.Resize(256),\n",
    "        transforms.CenterCrop(224),\n",
    "        transforms.ToTensor(),\n",
    "        transforms.Normalize([0.485, 0.456, 0.406], [0.229, 0.224, 0.225])\n",
    "    ])\n",
    "}"
   ]
  },
  {
   "cell_type": "code",
   "execution_count": 4,
   "metadata": {},
   "outputs": [],
   "source": [
    "data_root = os.path.abspath(os.path.join(os.getcwd(),\"../../\"))\n",
    "image_path = os.path.join(data_root,\"datasets\",\"flower_data\")\n",
    "assert os.path.exists(image_path),\"{} path does not exist\".format(image_path)"
   ]
  },
  {
   "cell_type": "code",
   "execution_count": 5,
   "metadata": {},
   "outputs": [
    {
     "data": {
      "text/plain": [
       "3306"
      ]
     },
     "execution_count": 5,
     "metadata": {},
     "output_type": "execute_result"
    }
   ],
   "source": [
    "train_dataset = datasets.ImageFolder(root=os.path.join(image_path,'train'),\n",
    "                                    transform=data_transform['train'])\n",
    "train_num = len(train_dataset)\n",
    "train_num"
   ]
  },
  {
   "cell_type": "code",
   "execution_count": 6,
   "metadata": {},
   "outputs": [],
   "source": [
    "# {'daisy':0,'dandelion':1,'roses':2,'sunflower':3,'tulips':4}\n",
    "flower_list = train_dataset.class_to_idx\n",
    "cla_dict = dict((val,key) for key,val in flower_list.items())"
   ]
  },
  {
   "cell_type": "code",
   "execution_count": 7,
   "metadata": {},
   "outputs": [],
   "source": [
    "# write dict into json file\n",
    "json_str = json.dumps(cla_dict, indent=4)\n",
    "with open('class_indices.json','w') as json_file:\n",
    "    json_file.write(json_str)"
   ]
  },
  {
   "cell_type": "code",
   "execution_count": 8,
   "metadata": {},
   "outputs": [
    {
     "name": "stdout",
     "output_type": "stream",
     "text": [
      "using 8 dataloader workers every process\n"
     ]
    }
   ],
   "source": [
    "batch_size = 16\n",
    "nw = min([os.cpu_count(), batch_size if batch_size>1 else 0, 8]) # number of workers\n",
    "print('using {} dataloader workers every process'.format(nw))"
   ]
  },
  {
   "cell_type": "code",
   "execution_count": 9,
   "metadata": {},
   "outputs": [],
   "source": [
    "train_loader = torch.utils.data.DataLoader(train_dataset,\n",
    "                                          batch_size=batch_size,\n",
    "                                          shuffle=True,\n",
    "                                          num_workers=nw)"
   ]
  },
  {
   "cell_type": "code",
   "execution_count": 10,
   "metadata": {},
   "outputs": [
    {
     "name": "stdout",
     "output_type": "stream",
     "text": [
      "using 3306 images for training,364 images for validation\n"
     ]
    }
   ],
   "source": [
    "validate_dataset = datasets.ImageFolder(root=os.path.join(image_path,'val'),\n",
    "                                       transform=data_transform['val'])\n",
    "val_num = len(validate_dataset)\n",
    "validate_loader = torch.utils.data.DataLoader(validate_dataset,\n",
    "                                             batch_size=batch_size,\n",
    "                                             shuffle=False,\n",
    "                                             num_workers=nw)\n",
    "print('using {} images for training,{} images for validation'.format(train_num,val_num))"
   ]
  },
  {
   "cell_type": "code",
   "execution_count": 11,
   "metadata": {},
   "outputs": [],
   "source": [
    "net = resnet50()\n",
    "# load pretrain weights\n",
    "# model_weight_path = './resnet34-333f7ec4.pth'\n",
    "model_weight_path = './resnet50-19c8e357.pth'\n",
    "# download url: https://download.pytorch.org/models/resnet34-333f7ec4.pth\n",
    "\n",
    "assert os.path.exists(model_weight_path), \"file {} does not exist.\".format(model_weight_path)\n",
    "missing_keys, unexpected_keys = net.load_state_dict(torch.load(model_weight_path), strict=False)"
   ]
  },
  {
   "cell_type": "code",
   "execution_count": 12,
   "metadata": {},
   "outputs": [
    {
     "data": {
      "text/plain": [
       "ResNet(\n",
       "  (conv1): Conv2d(3, 64, kernel_size=(7, 7), stride=(2, 2), padding=(3, 3), bias=False)\n",
       "  (bn1): BatchNorm2d(64, eps=1e-05, momentum=0.1, affine=True, track_running_stats=True)\n",
       "  (relu): ReLU(inplace=True)\n",
       "  (maxpool): MaxPool2d(kernel_size=3, stride=2, padding=1, dilation=1, ceil_mode=False)\n",
       "  (layer1): Sequential(\n",
       "    (0): Bottleneck(\n",
       "      (conv1): Conv2d(64, 64, kernel_size=(1, 1), stride=(1, 1), bias=False)\n",
       "      (bn1): BatchNorm2d(64, eps=1e-05, momentum=0.1, affine=True, track_running_stats=True)\n",
       "      (conv2): Conv2d(64, 64, kernel_size=(3, 3), stride=(1, 1), padding=(1, 1), bias=False)\n",
       "      (bn2): BatchNorm2d(64, eps=1e-05, momentum=0.1, affine=True, track_running_stats=True)\n",
       "      (conv3): Conv2d(64, 256, kernel_size=(1, 1), stride=(1, 1), bias=False)\n",
       "      (bn3): BatchNorm2d(256, eps=1e-05, momentum=0.1, affine=True, track_running_stats=True)\n",
       "      (relu): ReLU(inplace=True)\n",
       "      (downsample): Sequential(\n",
       "        (0): Conv2d(64, 256, kernel_size=(1, 1), stride=(1, 1), bias=False)\n",
       "        (1): BatchNorm2d(256, eps=1e-05, momentum=0.1, affine=True, track_running_stats=True)\n",
       "      )\n",
       "    )\n",
       "    (1): Bottleneck(\n",
       "      (conv1): Conv2d(256, 64, kernel_size=(1, 1), stride=(1, 1), bias=False)\n",
       "      (bn1): BatchNorm2d(64, eps=1e-05, momentum=0.1, affine=True, track_running_stats=True)\n",
       "      (conv2): Conv2d(64, 64, kernel_size=(3, 3), stride=(1, 1), padding=(1, 1), bias=False)\n",
       "      (bn2): BatchNorm2d(64, eps=1e-05, momentum=0.1, affine=True, track_running_stats=True)\n",
       "      (conv3): Conv2d(64, 256, kernel_size=(1, 1), stride=(1, 1), bias=False)\n",
       "      (bn3): BatchNorm2d(256, eps=1e-05, momentum=0.1, affine=True, track_running_stats=True)\n",
       "      (relu): ReLU(inplace=True)\n",
       "    )\n",
       "    (2): Bottleneck(\n",
       "      (conv1): Conv2d(256, 64, kernel_size=(1, 1), stride=(1, 1), bias=False)\n",
       "      (bn1): BatchNorm2d(64, eps=1e-05, momentum=0.1, affine=True, track_running_stats=True)\n",
       "      (conv2): Conv2d(64, 64, kernel_size=(3, 3), stride=(1, 1), padding=(1, 1), bias=False)\n",
       "      (bn2): BatchNorm2d(64, eps=1e-05, momentum=0.1, affine=True, track_running_stats=True)\n",
       "      (conv3): Conv2d(64, 256, kernel_size=(1, 1), stride=(1, 1), bias=False)\n",
       "      (bn3): BatchNorm2d(256, eps=1e-05, momentum=0.1, affine=True, track_running_stats=True)\n",
       "      (relu): ReLU(inplace=True)\n",
       "    )\n",
       "  )\n",
       "  (layer2): Sequential(\n",
       "    (0): Bottleneck(\n",
       "      (conv1): Conv2d(256, 128, kernel_size=(1, 1), stride=(1, 1), bias=False)\n",
       "      (bn1): BatchNorm2d(128, eps=1e-05, momentum=0.1, affine=True, track_running_stats=True)\n",
       "      (conv2): Conv2d(128, 128, kernel_size=(3, 3), stride=(2, 2), padding=(1, 1), bias=False)\n",
       "      (bn2): BatchNorm2d(128, eps=1e-05, momentum=0.1, affine=True, track_running_stats=True)\n",
       "      (conv3): Conv2d(128, 512, kernel_size=(1, 1), stride=(1, 1), bias=False)\n",
       "      (bn3): BatchNorm2d(512, eps=1e-05, momentum=0.1, affine=True, track_running_stats=True)\n",
       "      (relu): ReLU(inplace=True)\n",
       "      (downsample): Sequential(\n",
       "        (0): Conv2d(256, 512, kernel_size=(1, 1), stride=(2, 2), bias=False)\n",
       "        (1): BatchNorm2d(512, eps=1e-05, momentum=0.1, affine=True, track_running_stats=True)\n",
       "      )\n",
       "    )\n",
       "    (1): Bottleneck(\n",
       "      (conv1): Conv2d(512, 128, kernel_size=(1, 1), stride=(1, 1), bias=False)\n",
       "      (bn1): BatchNorm2d(128, eps=1e-05, momentum=0.1, affine=True, track_running_stats=True)\n",
       "      (conv2): Conv2d(128, 128, kernel_size=(3, 3), stride=(1, 1), padding=(1, 1), bias=False)\n",
       "      (bn2): BatchNorm2d(128, eps=1e-05, momentum=0.1, affine=True, track_running_stats=True)\n",
       "      (conv3): Conv2d(128, 512, kernel_size=(1, 1), stride=(1, 1), bias=False)\n",
       "      (bn3): BatchNorm2d(512, eps=1e-05, momentum=0.1, affine=True, track_running_stats=True)\n",
       "      (relu): ReLU(inplace=True)\n",
       "    )\n",
       "    (2): Bottleneck(\n",
       "      (conv1): Conv2d(512, 128, kernel_size=(1, 1), stride=(1, 1), bias=False)\n",
       "      (bn1): BatchNorm2d(128, eps=1e-05, momentum=0.1, affine=True, track_running_stats=True)\n",
       "      (conv2): Conv2d(128, 128, kernel_size=(3, 3), stride=(1, 1), padding=(1, 1), bias=False)\n",
       "      (bn2): BatchNorm2d(128, eps=1e-05, momentum=0.1, affine=True, track_running_stats=True)\n",
       "      (conv3): Conv2d(128, 512, kernel_size=(1, 1), stride=(1, 1), bias=False)\n",
       "      (bn3): BatchNorm2d(512, eps=1e-05, momentum=0.1, affine=True, track_running_stats=True)\n",
       "      (relu): ReLU(inplace=True)\n",
       "    )\n",
       "    (3): Bottleneck(\n",
       "      (conv1): Conv2d(512, 128, kernel_size=(1, 1), stride=(1, 1), bias=False)\n",
       "      (bn1): BatchNorm2d(128, eps=1e-05, momentum=0.1, affine=True, track_running_stats=True)\n",
       "      (conv2): Conv2d(128, 128, kernel_size=(3, 3), stride=(1, 1), padding=(1, 1), bias=False)\n",
       "      (bn2): BatchNorm2d(128, eps=1e-05, momentum=0.1, affine=True, track_running_stats=True)\n",
       "      (conv3): Conv2d(128, 512, kernel_size=(1, 1), stride=(1, 1), bias=False)\n",
       "      (bn3): BatchNorm2d(512, eps=1e-05, momentum=0.1, affine=True, track_running_stats=True)\n",
       "      (relu): ReLU(inplace=True)\n",
       "    )\n",
       "  )\n",
       "  (layer3): Sequential(\n",
       "    (0): Bottleneck(\n",
       "      (conv1): Conv2d(512, 256, kernel_size=(1, 1), stride=(1, 1), bias=False)\n",
       "      (bn1): BatchNorm2d(256, eps=1e-05, momentum=0.1, affine=True, track_running_stats=True)\n",
       "      (conv2): Conv2d(256, 256, kernel_size=(3, 3), stride=(2, 2), padding=(1, 1), bias=False)\n",
       "      (bn2): BatchNorm2d(256, eps=1e-05, momentum=0.1, affine=True, track_running_stats=True)\n",
       "      (conv3): Conv2d(256, 1024, kernel_size=(1, 1), stride=(1, 1), bias=False)\n",
       "      (bn3): BatchNorm2d(1024, eps=1e-05, momentum=0.1, affine=True, track_running_stats=True)\n",
       "      (relu): ReLU(inplace=True)\n",
       "      (downsample): Sequential(\n",
       "        (0): Conv2d(512, 1024, kernel_size=(1, 1), stride=(2, 2), bias=False)\n",
       "        (1): BatchNorm2d(1024, eps=1e-05, momentum=0.1, affine=True, track_running_stats=True)\n",
       "      )\n",
       "    )\n",
       "    (1): Bottleneck(\n",
       "      (conv1): Conv2d(1024, 256, kernel_size=(1, 1), stride=(1, 1), bias=False)\n",
       "      (bn1): BatchNorm2d(256, eps=1e-05, momentum=0.1, affine=True, track_running_stats=True)\n",
       "      (conv2): Conv2d(256, 256, kernel_size=(3, 3), stride=(1, 1), padding=(1, 1), bias=False)\n",
       "      (bn2): BatchNorm2d(256, eps=1e-05, momentum=0.1, affine=True, track_running_stats=True)\n",
       "      (conv3): Conv2d(256, 1024, kernel_size=(1, 1), stride=(1, 1), bias=False)\n",
       "      (bn3): BatchNorm2d(1024, eps=1e-05, momentum=0.1, affine=True, track_running_stats=True)\n",
       "      (relu): ReLU(inplace=True)\n",
       "    )\n",
       "    (2): Bottleneck(\n",
       "      (conv1): Conv2d(1024, 256, kernel_size=(1, 1), stride=(1, 1), bias=False)\n",
       "      (bn1): BatchNorm2d(256, eps=1e-05, momentum=0.1, affine=True, track_running_stats=True)\n",
       "      (conv2): Conv2d(256, 256, kernel_size=(3, 3), stride=(1, 1), padding=(1, 1), bias=False)\n",
       "      (bn2): BatchNorm2d(256, eps=1e-05, momentum=0.1, affine=True, track_running_stats=True)\n",
       "      (conv3): Conv2d(256, 1024, kernel_size=(1, 1), stride=(1, 1), bias=False)\n",
       "      (bn3): BatchNorm2d(1024, eps=1e-05, momentum=0.1, affine=True, track_running_stats=True)\n",
       "      (relu): ReLU(inplace=True)\n",
       "    )\n",
       "    (3): Bottleneck(\n",
       "      (conv1): Conv2d(1024, 256, kernel_size=(1, 1), stride=(1, 1), bias=False)\n",
       "      (bn1): BatchNorm2d(256, eps=1e-05, momentum=0.1, affine=True, track_running_stats=True)\n",
       "      (conv2): Conv2d(256, 256, kernel_size=(3, 3), stride=(1, 1), padding=(1, 1), bias=False)\n",
       "      (bn2): BatchNorm2d(256, eps=1e-05, momentum=0.1, affine=True, track_running_stats=True)\n",
       "      (conv3): Conv2d(256, 1024, kernel_size=(1, 1), stride=(1, 1), bias=False)\n",
       "      (bn3): BatchNorm2d(1024, eps=1e-05, momentum=0.1, affine=True, track_running_stats=True)\n",
       "      (relu): ReLU(inplace=True)\n",
       "    )\n",
       "    (4): Bottleneck(\n",
       "      (conv1): Conv2d(1024, 256, kernel_size=(1, 1), stride=(1, 1), bias=False)\n",
       "      (bn1): BatchNorm2d(256, eps=1e-05, momentum=0.1, affine=True, track_running_stats=True)\n",
       "      (conv2): Conv2d(256, 256, kernel_size=(3, 3), stride=(1, 1), padding=(1, 1), bias=False)\n",
       "      (bn2): BatchNorm2d(256, eps=1e-05, momentum=0.1, affine=True, track_running_stats=True)\n",
       "      (conv3): Conv2d(256, 1024, kernel_size=(1, 1), stride=(1, 1), bias=False)\n",
       "      (bn3): BatchNorm2d(1024, eps=1e-05, momentum=0.1, affine=True, track_running_stats=True)\n",
       "      (relu): ReLU(inplace=True)\n",
       "    )\n",
       "    (5): Bottleneck(\n",
       "      (conv1): Conv2d(1024, 256, kernel_size=(1, 1), stride=(1, 1), bias=False)\n",
       "      (bn1): BatchNorm2d(256, eps=1e-05, momentum=0.1, affine=True, track_running_stats=True)\n",
       "      (conv2): Conv2d(256, 256, kernel_size=(3, 3), stride=(1, 1), padding=(1, 1), bias=False)\n",
       "      (bn2): BatchNorm2d(256, eps=1e-05, momentum=0.1, affine=True, track_running_stats=True)\n",
       "      (conv3): Conv2d(256, 1024, kernel_size=(1, 1), stride=(1, 1), bias=False)\n",
       "      (bn3): BatchNorm2d(1024, eps=1e-05, momentum=0.1, affine=True, track_running_stats=True)\n",
       "      (relu): ReLU(inplace=True)\n",
       "    )\n",
       "  )\n",
       "  (layer4): Sequential(\n",
       "    (0): Bottleneck(\n",
       "      (conv1): Conv2d(1024, 512, kernel_size=(1, 1), stride=(1, 1), bias=False)\n",
       "      (bn1): BatchNorm2d(512, eps=1e-05, momentum=0.1, affine=True, track_running_stats=True)\n",
       "      (conv2): Conv2d(512, 512, kernel_size=(3, 3), stride=(2, 2), padding=(1, 1), bias=False)\n",
       "      (bn2): BatchNorm2d(512, eps=1e-05, momentum=0.1, affine=True, track_running_stats=True)\n",
       "      (conv3): Conv2d(512, 2048, kernel_size=(1, 1), stride=(1, 1), bias=False)\n",
       "      (bn3): BatchNorm2d(2048, eps=1e-05, momentum=0.1, affine=True, track_running_stats=True)\n",
       "      (relu): ReLU(inplace=True)\n",
       "      (downsample): Sequential(\n",
       "        (0): Conv2d(1024, 2048, kernel_size=(1, 1), stride=(2, 2), bias=False)\n",
       "        (1): BatchNorm2d(2048, eps=1e-05, momentum=0.1, affine=True, track_running_stats=True)\n",
       "      )\n",
       "    )\n",
       "    (1): Bottleneck(\n",
       "      (conv1): Conv2d(2048, 512, kernel_size=(1, 1), stride=(1, 1), bias=False)\n",
       "      (bn1): BatchNorm2d(512, eps=1e-05, momentum=0.1, affine=True, track_running_stats=True)\n",
       "      (conv2): Conv2d(512, 512, kernel_size=(3, 3), stride=(1, 1), padding=(1, 1), bias=False)\n",
       "      (bn2): BatchNorm2d(512, eps=1e-05, momentum=0.1, affine=True, track_running_stats=True)\n",
       "      (conv3): Conv2d(512, 2048, kernel_size=(1, 1), stride=(1, 1), bias=False)\n",
       "      (bn3): BatchNorm2d(2048, eps=1e-05, momentum=0.1, affine=True, track_running_stats=True)\n",
       "      (relu): ReLU(inplace=True)\n",
       "    )\n",
       "    (2): Bottleneck(\n",
       "      (conv1): Conv2d(2048, 512, kernel_size=(1, 1), stride=(1, 1), bias=False)\n",
       "      (bn1): BatchNorm2d(512, eps=1e-05, momentum=0.1, affine=True, track_running_stats=True)\n",
       "      (conv2): Conv2d(512, 512, kernel_size=(3, 3), stride=(1, 1), padding=(1, 1), bias=False)\n",
       "      (bn2): BatchNorm2d(512, eps=1e-05, momentum=0.1, affine=True, track_running_stats=True)\n",
       "      (conv3): Conv2d(512, 2048, kernel_size=(1, 1), stride=(1, 1), bias=False)\n",
       "      (bn3): BatchNorm2d(2048, eps=1e-05, momentum=0.1, affine=True, track_running_stats=True)\n",
       "      (relu): ReLU(inplace=True)\n",
       "    )\n",
       "  )\n",
       "  (avgpool): AdaptiveAvgPool2d(output_size=(1, 1))\n",
       "  (fc): Linear(in_features=2048, out_features=5, bias=True)\n",
       ")"
      ]
     },
     "execution_count": 12,
     "metadata": {},
     "output_type": "execute_result"
    }
   ],
   "source": [
    "in_channel = net.fc.in_features\n",
    "net.fc = nn.Linear(in_channel,5)\n",
    "net.to(device)"
   ]
  },
  {
   "cell_type": "code",
   "execution_count": 13,
   "metadata": {},
   "outputs": [
    {
     "name": "stdout",
     "output_type": "stream",
     "text": [
      "\train loss:  0 % [->.................................................]1.6003\train loss:  0 % [->.................................................]1.4258\train loss:  1 % [->.................................................]1.4029\train loss:  1 % [->.................................................]1.2501\train loss:  2 % [*->................................................]1.0918\train loss:  2 % [*->................................................]0.8996\train loss:  3 % [*->................................................]1.0500\train loss:  3 % [*->................................................]0.9289\train loss:  4 % [**->...............................................]0.7069\train loss:  4 % [**->...............................................]0.8175\train loss:  5 % [**->...............................................]0.6449\train loss:  5 % [**->...............................................]0.8500\train loss:  6 % [***->..............................................]1.1341\train loss:  6 % [***->..............................................]1.0033\train loss:  7 % [***->..............................................]1.1159\train loss:  7 % [***->..............................................]0.5556\train loss:  8 % [****->.............................................]0.5528\train loss:  8 % [****->.............................................]0.5704\train loss:  9 % [****->.............................................]0.5228\train loss:  9 % [****->.............................................]0.5998\train loss: 10 % [*****->............................................]0.3295\train loss: 10 % [*****->............................................]0.6811\train loss: 11 % [*****->............................................]0.5604\train loss: 11 % [*****->............................................]0.4558\train loss: 12 % [******->...........................................]0.2536\train loss: 12 % [******->...........................................]0.5082\train loss: 13 % [******->...........................................]0.3133\train loss: 13 % [******->...........................................]0.5267\train loss: 14 % [*******->..........................................]0.4318\train loss: 14 % [*******->..........................................]0.7880\train loss: 14 % [*******->..........................................]0.2298\train loss: 15 % [*******->..........................................]0.9303\train loss: 15 % [*******->..........................................]0.6046\train loss: 16 % [********->.........................................]0.2316\train loss: 16 % [********->.........................................]0.4386\train loss: 17 % [********->.........................................]0.7747\train loss: 17 % [********->.........................................]0.5303\train loss: 18 % [*********->........................................]0.3735\train loss: 18 % [*********->........................................]0.2491\train loss: 19 % [*********->........................................]0.4542\train loss: 19 % [*********->........................................]0.5711\train loss: 20 % [**********->.......................................]0.2803\train loss: 20 % [**********->.......................................]0.1757\train loss: 21 % [**********->.......................................]0.3623\train loss: 21 % [**********->.......................................]0.5997\train loss: 22 % [***********->......................................]0.1784\train loss: 22 % [***********->......................................]0.4042\train loss: 23 % [***********->......................................]0.9386\train loss: 23 % [***********->......................................]0.7160\train loss: 24 % [************->.....................................]0.6300\train loss: 24 % [************->.....................................]0.4795\train loss: 25 % [************->.....................................]0.6628\train loss: 25 % [************->.....................................]0.5283\train loss: 26 % [*************->....................................]0.4225\train loss: 26 % [*************->....................................]0.6275\train loss: 27 % [*************->....................................]0.4696\train loss: 27 % [*************->....................................]0.6029\train loss: 28 % [**************->...................................]0.3302\train loss: 28 % [**************->...................................]0.1628\train loss: 28 % [**************->...................................]0.3103\train loss: 29 % [**************->...................................]0.5033\train loss: 29 % [**************->...................................]0.4617\train loss: 30 % [***************->..................................]0.5910\train loss: 30 % [***************->..................................]0.5866\train loss: 31 % [***************->..................................]0.6262\train loss: 31 % [***************->..................................]0.2506\train loss: 32 % [****************->.................................]0.5118\train loss: 32 % [****************->.................................]0.6557\train loss: 33 % [****************->.................................]0.7207\train loss: 33 % [****************->.................................]0.2393\train loss: 34 % [*****************->................................]0.4099\train loss: 34 % [*****************->................................]0.6214\train loss: 35 % [*****************->................................]0.4257\train loss: 35 % [*****************->................................]0.3847\train loss: 36 % [******************->...............................]0.4064\train loss: 36 % [******************->...............................]0.7127\train loss: 37 % [******************->...............................]0.5135\train loss: 37 % [******************->...............................]0.3023\train loss: 38 % [*******************->..............................]0.2954\train loss: 38 % [*******************->..............................]0.1427\train loss: 39 % [*******************->..............................]0.7289\train loss: 39 % [*******************->..............................]0.7143\train loss: 40 % [********************->.............................]0.5594\train loss: 40 % [********************->.............................]0.7749\train loss: 41 % [********************->.............................]0.2442\train loss: 41 % [********************->.............................]0.2778\train loss: 42 % [*********************->............................]0.3585\train loss: 42 % [*********************->............................]0.6364\train loss: 42 % [*********************->............................]0.5749\train loss: 43 % [*********************->............................]0.4879\train loss: 43 % [*********************->............................]0.3565\train loss: 44 % [**********************->...........................]0.1180\train loss: 44 % [**********************->...........................]0.6549\train loss: 45 % [**********************->...........................]0.5134\train loss: 45 % [**********************->...........................]0.5265\train loss: 46 % [***********************->..........................]0.3216\train loss: 46 % [***********************->..........................]0.3091\train loss: 47 % [***********************->..........................]1.0318\train loss: 47 % [***********************->..........................]1.2721\train loss: 48 % [************************->.........................]0.7601\train loss: 48 % [************************->.........................]0.4453\train loss: 49 % [************************->.........................]0.8733\train loss: 49 % [************************->.........................]0.4442\train loss: 50 % [*************************->........................]0.4409\train loss: 50 % [*************************->........................]0.1380\train loss: 51 % [*************************->........................]0.2836\train loss: 51 % [*************************->........................]0.4892\train loss: 52 % [**************************->.......................]0.7446\train loss: 52 % [**************************->.......................]0.2181\train loss: 53 % [**************************->.......................]0.2477\train loss: 53 % [**************************->.......................]0.2756\train loss: 54 % [***************************->......................]0.7974\train loss: 54 % [***************************->......................]0.3716\train loss: 55 % [***************************->......................]0.1436\train loss: 55 % [***************************->......................]0.3856\train loss: 56 % [****************************->.....................]0.5749\train loss: 56 % [****************************->.....................]0.2777\train loss: 57 % [****************************->.....................]0.6341\train loss: 57 % [****************************->.....................]0.6139\train loss: 57 % [****************************->.....................]0.4609\train loss: 58 % [*****************************->....................]0.4961\train loss: 58 % [*****************************->....................]0.2512\train loss: 59 % [*****************************->....................]0.4734\train loss: 59 % [*****************************->....................]0.6270\train loss: 60 % [******************************->...................]0.4663\train loss: 60 % [******************************->...................]0.7087\train loss: 61 % [******************************->...................]0.4362\train loss: 61 % [******************************->...................]0.4364\train loss: 62 % [*******************************->..................]0.5025\train loss: 62 % [*******************************->..................]0.5627\train loss: 63 % [*******************************->..................]0.4779\train loss: 63 % [*******************************->..................]0.4880\train loss: 64 % [********************************->.................]0.4469\train loss: 64 % [********************************->.................]0.1840\train loss: 65 % [********************************->.................]0.1506\train loss: 65 % [********************************->.................]0.3438\train loss: 66 % [*********************************->................]0.3598\train loss: 66 % [*********************************->................]0.5406\train loss: 67 % [*********************************->................]0.0766\train loss: 67 % [*********************************->................]0.3753\train loss: 68 % [**********************************->...............]0.2948\train loss: 68 % [**********************************->...............]0.1650\train loss: 69 % [**********************************->...............]0.3787\train loss: 69 % [**********************************->...............]0.7688\train loss: 70 % [***********************************->..............]0.1242\train loss: 70 % [***********************************->..............]0.3000\train loss: 71 % [***********************************->..............]0.1347\train loss: 71 % [***********************************->..............]0.5324\train loss: 71 % [***********************************->..............]0.4115\train loss: 72 % [************************************->.............]0.3025\train loss: 72 % [************************************->.............]0.2653\train loss: 73 % [************************************->.............]0.9731\train loss: 73 % [************************************->.............]0.8270\train loss: 74 % [*************************************->............]0.3799\train loss: 74 % [*************************************->............]0.2792\train loss: 75 % [*************************************->............]0.3351\train loss: 75 % [*************************************->............]0.2304\train loss: 76 % [**************************************->...........]0.3031\train loss: 76 % [**************************************->...........]0.3210\train loss: 77 % [**************************************->...........]0.4756\train loss: 77 % [**************************************->...........]0.3110\train loss: 78 % [***************************************->..........]0.4692\train loss: 78 % [***************************************->..........]0.4854\train loss: 79 % [***************************************->..........]0.5953\train loss: 79 % [***************************************->..........]0.8077\train loss: 80 % [****************************************->.........]0.3389\train loss: 80 % [****************************************->.........]0.2839\train loss: 81 % [****************************************->.........]0.4273\train loss: 81 % [****************************************->.........]0.4827\train loss: 82 % [*****************************************->........]0.7583\train loss: 82 % [*****************************************->........]0.9613\train loss: 83 % [*****************************************->........]0.4730\train loss: 83 % [*****************************************->........]0.3918\train loss: 84 % [******************************************->.......]0.6544\train loss: 84 % [******************************************->.......]0.2671\train loss: 85 % [******************************************->.......]0.5772\train loss: 85 % [******************************************->.......]0.5791\train loss: 85 % [******************************************->.......]0.2477\train loss: 86 % [*******************************************->......]0.2864\train loss: 86 % [*******************************************->......]0.2065\train loss: 87 % [*******************************************->......]0.1807\train loss: 87 % [*******************************************->......]0.3942\train loss: 88 % [********************************************->.....]0.1277\train loss: 88 % [********************************************->.....]0.4575\train loss: 89 % [********************************************->.....]0.3465\train loss: 89 % [********************************************->.....]0.5018\train loss: 90 % [*********************************************->....]0.4227\train loss: 90 % [*********************************************->....]0.7935\train loss: 91 % [*********************************************->....]0.4306\train loss: 91 % [*********************************************->....]0.1859\train loss: 92 % [**********************************************->...]0.8955\train loss: 92 % [**********************************************->...]0.2775\train loss: 93 % [**********************************************->...]0.4067\train loss: 93 % [**********************************************->...]0.4193\train loss: 94 % [***********************************************->..]0.4861\train loss: 94 % [***********************************************->..]0.2801\train loss: 95 % [***********************************************->..]0.9500\train loss: 95 % [***********************************************->..]0.2913\train loss: 96 % [************************************************->.]0.3060\train loss: 96 % [************************************************->.]0.2201\train loss: 97 % [************************************************->.]0.3906\train loss: 97 % [************************************************->.]0.7230\train loss: 98 % [*************************************************->]0.2949\train loss: 98 % [*************************************************->]0.0912\train loss: 99 % [*************************************************->]0.8819\train loss: 99 % [*************************************************->]0.3632\train loss: 100% [**************************************************->]0.9330\n",
      "[epoch 1] train_loss: 0.510  test_accuracy: 0.918\n",
      "Finished Training\n",
      "\train loss:  0 % [->.................................................]0.1453\train loss:  0 % [->.................................................]0.5422\train loss:  1 % [->.................................................]0.2962\train loss:  1 % [->.................................................]0.2909\train loss:  2 % [*->................................................]0.4555\train loss:  2 % [*->................................................]0.1966\train loss:  3 % [*->................................................]0.6306\train loss:  3 % [*->................................................]0.3438\train loss:  4 % [**->...............................................]0.1407\train loss:  4 % [**->...............................................]0.1469\train loss:  5 % [**->...............................................]0.2232\train loss:  5 % [**->...............................................]0.5259\train loss:  6 % [***->..............................................]0.7211\train loss:  6 % [***->..............................................]0.1497\train loss:  7 % [***->..............................................]0.0916\train loss:  7 % [***->..............................................]0.2690\train loss:  8 % [****->.............................................]0.2472\train loss:  8 % [****->.............................................]0.3970\train loss:  9 % [****->.............................................]0.4875\train loss:  9 % [****->.............................................]0.4472\train loss: 10 % [*****->............................................]0.0935\train loss: 10 % [*****->............................................]0.1569\train loss: 11 % [*****->............................................]0.1431\train loss: 11 % [*****->............................................]0.4200\train loss: 12 % [******->...........................................]0.4756\train loss: 12 % [******->...........................................]0.1490\train loss: 13 % [******->...........................................]0.3340\train loss: 13 % [******->...........................................]0.4911\train loss: 14 % [*******->..........................................]0.5986\train loss: 14 % [*******->..........................................]0.2309\train loss: 14 % [*******->..........................................]0.4239\train loss: 15 % [*******->..........................................]0.7837\train loss: 15 % [*******->..........................................]0.2664\train loss: 16 % [********->.........................................]0.3970\train loss: 16 % [********->.........................................]0.3652\train loss: 17 % [********->.........................................]0.1799\train loss: 17 % [********->.........................................]0.3545\train loss: 18 % [*********->........................................]0.3476\train loss: 18 % [*********->........................................]0.1413\train loss: 19 % [*********->........................................]0.2651\train loss: 19 % [*********->........................................]0.2667\train loss: 20 % [**********->.......................................]0.4405\train loss: 20 % [**********->.......................................]0.6101\train loss: 21 % [**********->.......................................]0.5405\train loss: 21 % [**********->.......................................]0.4393\train loss: 22 % [***********->......................................]0.8705\train loss: 22 % [***********->......................................]0.2143\train loss: 23 % [***********->......................................]0.1781\train loss: 23 % [***********->......................................]0.6337\train loss: 24 % [************->.....................................]0.1779\train loss: 24 % [************->.....................................]0.1642\train loss: 25 % [************->.....................................]0.1505\train loss: 25 % [************->.....................................]1.2000\train loss: 26 % [*************->....................................]0.2034\train loss: 26 % [*************->....................................]0.3710\train loss: 27 % [*************->....................................]0.3630\train loss: 27 % [*************->....................................]1.0378\train loss: 28 % [**************->...................................]0.3751\train loss: 28 % [**************->...................................]0.3532\train loss: 28 % [**************->...................................]0.6893\train loss: 29 % [**************->...................................]0.5680\train loss: 29 % [**************->...................................]0.2857\train loss: 30 % [***************->..................................]0.2199\train loss: 30 % [***************->..................................]0.1994\train loss: 31 % [***************->..................................]0.1495\train loss: 31 % [***************->..................................]0.1262\train loss: 32 % [****************->.................................]0.3327\train loss: 32 % [****************->.................................]0.4157\train loss: 33 % [****************->.................................]0.1233\train loss: 33 % [****************->.................................]0.2386\train loss: 34 % [*****************->................................]0.2693\train loss: 34 % [*****************->................................]0.2404\train loss: 35 % [*****************->................................]0.2475\train loss: 35 % [*****************->................................]0.1695\train loss: 36 % [******************->...............................]0.6340\train loss: 36 % [******************->...............................]0.3478\train loss: 37 % [******************->...............................]0.1493\train loss: 37 % [******************->...............................]0.5327\train loss: 38 % [*******************->..............................]0.3087\train loss: 38 % [*******************->..............................]0.3613\train loss: 39 % [*******************->..............................]0.1909\train loss: 39 % [*******************->..............................]0.2200\train loss: 40 % [********************->.............................]0.3702\train loss: 40 % [********************->.............................]0.3251\train loss: 41 % [********************->.............................]0.1511\train loss: 41 % [********************->.............................]0.5432\train loss: 42 % [*********************->............................]0.2986\train loss: 42 % [*********************->............................]0.1503\train loss: 42 % [*********************->............................]0.1361\train loss: 43 % [*********************->............................]0.8757\train loss: 43 % [*********************->............................]0.6654\train loss: 44 % [**********************->...........................]0.4223\train loss: 44 % [**********************->...........................]0.1706\train loss: 45 % [**********************->...........................]0.5415\train loss: 45 % [**********************->...........................]0.1510\train loss: 46 % [***********************->..........................]0.3091\train loss: 46 % [***********************->..........................]0.2068\train loss: 47 % [***********************->..........................]0.4956\train loss: 47 % [***********************->..........................]1.1641\train loss: 48 % [************************->.........................]0.3411\train loss: 48 % [************************->.........................]0.1183\train loss: 49 % [************************->.........................]0.6738\train loss: 49 % [************************->.........................]0.2063\train loss: 50 % [*************************->........................]0.2367\train loss: 50 % [*************************->........................]0.2681\train loss: 51 % [*************************->........................]0.1060\train loss: 51 % [*************************->........................]0.3558\train loss: 52 % [**************************->.......................]0.2274\train loss: 52 % [**************************->.......................]0.3910\train loss: 53 % [**************************->.......................]0.5193\train loss: 53 % [**************************->.......................]0.7657\train loss: 54 % [***************************->......................]0.2011\train loss: 54 % [***************************->......................]0.4877\train loss: 55 % [***************************->......................]0.5166\train loss: 55 % [***************************->......................]0.4839\train loss: 56 % [****************************->.....................]0.3966\train loss: 56 % [****************************->.....................]0.4590\train loss: 57 % [****************************->.....................]0.5679\train loss: 57 % [****************************->.....................]0.2690\train loss: 57 % [****************************->.....................]0.8868\train loss: 58 % [*****************************->....................]0.2237\train loss: 58 % [*****************************->....................]0.2970\train loss: 59 % [*****************************->....................]0.1592\train loss: 59 % [*****************************->....................]0.4546\train loss: 60 % [******************************->...................]0.1455\train loss: 60 % [******************************->...................]0.1300\train loss: 61 % [******************************->...................]0.5408\train loss: 61 % [******************************->...................]0.4248\train loss: 62 % [*******************************->..................]0.2290\train loss: 62 % [*******************************->..................]0.3126\train loss: 63 % [*******************************->..................]0.2705\train loss: 63 % [*******************************->..................]0.2165\train loss: 64 % [********************************->.................]0.3275\train loss: 64 % [********************************->.................]0.0618\train loss: 65 % [********************************->.................]0.2380\train loss: 65 % [********************************->.................]0.3897\train loss: 66 % [*********************************->................]0.2902\train loss: 66 % [*********************************->................]0.3757\train loss: 67 % [*********************************->................]0.1896\train loss: 67 % [*********************************->................]0.2744\train loss: 68 % [**********************************->...............]0.3400\train loss: 68 % [**********************************->...............]0.1489\train loss: 69 % [**********************************->...............]0.1135\train loss: 69 % [**********************************->...............]0.3362\train loss: 70 % [***********************************->..............]0.4900\train loss: 70 % [***********************************->..............]0.4765\train loss: 71 % [***********************************->..............]0.7490\train loss: 71 % [***********************************->..............]0.3352\train loss: 71 % [***********************************->..............]0.4520\train loss: 72 % [************************************->.............]0.2134\train loss: 72 % [************************************->.............]0.1048\train loss: 73 % [************************************->.............]0.5464\train loss: 73 % [************************************->.............]0.2114\train loss: 74 % [*************************************->............]0.7204\train loss: 74 % [*************************************->............]0.3298\train loss: 75 % [*************************************->............]0.3641\train loss: 75 % [*************************************->............]0.1307\train loss: 76 % [**************************************->...........]0.4209\train loss: 76 % [**************************************->...........]0.1800\train loss: 77 % [**************************************->...........]0.1694\train loss: 77 % [**************************************->...........]0.4620\train loss: 78 % [***************************************->..........]0.1368\train loss: 78 % [***************************************->..........]0.4412\train loss: 79 % [***************************************->..........]0.2357\train loss: 79 % [***************************************->..........]0.4490\train loss: 80 % [****************************************->.........]0.2578\train loss: 80 % [****************************************->.........]0.6056\train loss: 81 % [****************************************->.........]0.0656\train loss: 81 % [****************************************->.........]0.2095\train loss: 82 % [*****************************************->........]0.3808\train loss: 82 % [*****************************************->........]0.2172\train loss: 83 % [*****************************************->........]0.7386\train loss: 83 % [*****************************************->........]0.4328\train loss: 84 % [******************************************->.......]0.2204\train loss: 84 % [******************************************->.......]0.6261\train loss: 85 % [******************************************->.......]0.3747\train loss: 85 % [******************************************->.......]0.3434\train loss: 85 % [******************************************->.......]0.1782\train loss: 86 % [*******************************************->......]0.2781\train loss: 86 % [*******************************************->......]0.5606\train loss: 87 % [*******************************************->......]0.1562\train loss: 87 % [*******************************************->......]0.5584\train loss: 88 % [********************************************->.....]0.5978\train loss: 88 % [********************************************->.....]0.4088\train loss: 89 % [********************************************->.....]0.5769\train loss: 89 % [********************************************->.....]0.2622\train loss: 90 % [*********************************************->....]0.1767\train loss: 90 % [*********************************************->....]0.2787\train loss: 91 % [*********************************************->....]0.3427\train loss: 91 % [*********************************************->....]0.4439\train loss: 92 % [**********************************************->...]0.6338\train loss: 92 % [**********************************************->...]0.3513\train loss: 93 % [**********************************************->...]0.3238\train loss: 93 % [**********************************************->...]1.2175\train loss: 94 % [***********************************************->..]0.2363\train loss: 94 % [***********************************************->..]0.6566\train loss: 95 % [***********************************************->..]0.2326\train loss: 95 % [***********************************************->..]0.6728\train loss: 96 % [************************************************->.]0.2402\train loss: 96 % [************************************************->.]0.4877\train loss: 97 % [************************************************->.]0.3520\train loss: 97 % [************************************************->.]0.3198\train loss: 98 % [*************************************************->]0.4333\train loss: 98 % [*************************************************->]0.2312\train loss: 99 % [*************************************************->]0.4036\train loss: 99 % [*************************************************->]0.2942\train loss: 100% [**************************************************->]0.3038\n",
      "[epoch 2] train_loss: 0.365  test_accuracy: 0.923\n",
      "Finished Training\n",
      "\train loss:  0 % [->.................................................]0.1117\train loss:  0 % [->.................................................]0.1061\train loss:  1 % [->.................................................]0.1984\train loss:  1 % [->.................................................]0.2781\train loss:  2 % [*->................................................]0.2732\train loss:  2 % [*->................................................]0.1168\train loss:  3 % [*->................................................]0.5115\train loss:  3 % [*->................................................]0.3558\train loss:  4 % [**->...............................................]0.4281\train loss:  4 % [**->...............................................]0.3920\train loss:  5 % [**->...............................................]0.0927\train loss:  5 % [**->...............................................]0.3393\train loss:  6 % [***->..............................................]0.0145\train loss:  6 % [***->..............................................]0.1719\train loss:  7 % [***->..............................................]0.4143\train loss:  7 % [***->..............................................]0.2703\train loss:  8 % [****->.............................................]0.3650\train loss:  8 % [****->.............................................]0.3763\train loss:  9 % [****->.............................................]0.2776\train loss:  9 % [****->.............................................]0.2027\train loss: 10 % [*****->............................................]0.3157\train loss: 10 % [*****->............................................]0.1656\train loss: 11 % [*****->............................................]0.5074\train loss: 11 % [*****->............................................]0.2577\train loss: 12 % [******->...........................................]0.4684\train loss: 12 % [******->...........................................]0.1338\train loss: 13 % [******->...........................................]0.5503\train loss: 13 % [******->...........................................]0.1542\train loss: 14 % [*******->..........................................]0.0483\train loss: 14 % [*******->..........................................]0.5510\train loss: 14 % [*******->..........................................]0.3087\train loss: 15 % [*******->..........................................]0.0846\train loss: 15 % [*******->..........................................]0.0872\train loss: 16 % [********->.........................................]0.5126\train loss: 16 % [********->.........................................]0.1315\train loss: 17 % [********->.........................................]0.3085\train loss: 17 % [********->.........................................]0.2198\train loss: 18 % [*********->........................................]0.2743\train loss: 18 % [*********->........................................]0.2347\train loss: 19 % [*********->........................................]0.1101\train loss: 19 % [*********->........................................]0.3327\train loss: 20 % [**********->.......................................]0.4258\train loss: 20 % [**********->.......................................]0.1095\train loss: 21 % [**********->.......................................]0.2290\train loss: 21 % [**********->.......................................]0.2074\train loss: 22 % [***********->......................................]0.2913\train loss: 22 % [***********->......................................]0.1217\train loss: 23 % [***********->......................................]0.0483\train loss: 23 % [***********->......................................]0.2173\train loss: 24 % [************->.....................................]0.1373\train loss: 24 % [************->.....................................]0.1875\train loss: 25 % [************->.....................................]0.4844\train loss: 25 % [************->.....................................]0.0284\train loss: 26 % [*************->....................................]0.1405\train loss: 26 % [*************->....................................]0.2791\train loss: 27 % [*************->....................................]0.3537\train loss: 27 % [*************->....................................]0.2811\train loss: 28 % [**************->...................................]0.5191\train loss: 28 % [**************->...................................]0.2200\train loss: 28 % [**************->...................................]0.4006\train loss: 29 % [**************->...................................]0.4275\train loss: 29 % [**************->...................................]0.3507\train loss: 30 % [***************->..................................]0.4761\train loss: 30 % [***************->..................................]0.1507\train loss: 31 % [***************->..................................]0.1405\train loss: 31 % [***************->..................................]0.2348\train loss: 32 % [****************->.................................]0.5066\train loss: 32 % [****************->.................................]0.2763\train loss: 33 % [****************->.................................]0.0992\train loss: 33 % [****************->.................................]0.6226\train loss: 34 % [*****************->................................]0.4987\train loss: 34 % [*****************->................................]0.2239\train loss: 35 % [*****************->................................]0.3772\train loss: 35 % [*****************->................................]0.3429\train loss: 36 % [******************->...............................]0.1792\train loss: 36 % [******************->...............................]0.0988\train loss: 37 % [******************->...............................]0.3662\train loss: 37 % [******************->...............................]0.1213\train loss: 38 % [*******************->..............................]0.3978\train loss: 38 % [*******************->..............................]0.5052\train loss: 39 % [*******************->..............................]0.7332\train loss: 39 % [*******************->..............................]0.3435\train loss: 40 % [********************->.............................]0.3851\train loss: 40 % [********************->.............................]0.1683\train loss: 41 % [********************->.............................]0.1324\train loss: 41 % [********************->.............................]0.3679\train loss: 42 % [*********************->............................]0.1512\train loss: 42 % [*********************->............................]0.4565\train loss: 42 % [*********************->............................]0.1476\train loss: 43 % [*********************->............................]0.1991\train loss: 43 % [*********************->............................]0.4713\train loss: 44 % [**********************->...........................]0.3672\train loss: 44 % [**********************->...........................]0.0505\train loss: 45 % [**********************->...........................]0.1478\train loss: 45 % [**********************->...........................]0.4278\train loss: 46 % [***********************->..........................]0.2455\train loss: 46 % [***********************->..........................]0.1130\train loss: 47 % [***********************->..........................]0.5377\train loss: 47 % [***********************->..........................]0.3751\train loss: 48 % [************************->.........................]0.4334\train loss: 48 % [************************->.........................]0.1346\train loss: 49 % [************************->.........................]0.2629\train loss: 49 % [************************->.........................]0.1209\train loss: 50 % [*************************->........................]0.3042\train loss: 50 % [*************************->........................]0.5647\train loss: 51 % [*************************->........................]0.3029\train loss: 51 % [*************************->........................]0.1462\train loss: 52 % [**************************->.......................]0.0942\train loss: 52 % [**************************->.......................]0.3400\train loss: 53 % [**************************->.......................]0.3767\train loss: 53 % [**************************->.......................]0.1888\train loss: 54 % [***************************->......................]0.3251\train loss: 54 % [***************************->......................]0.3655\train loss: 55 % [***************************->......................]0.1671\train loss: 55 % [***************************->......................]0.0304\train loss: 56 % [****************************->.....................]0.4452\train loss: 56 % [****************************->.....................]0.1885\train loss: 57 % [****************************->.....................]0.5270\train loss: 57 % [****************************->.....................]0.5197\train loss: 57 % [****************************->.....................]0.1996\train loss: 58 % [*****************************->....................]0.3084\train loss: 58 % [*****************************->....................]0.1960\train loss: 59 % [*****************************->....................]0.1303\train loss: 59 % [*****************************->....................]0.5641\train loss: 60 % [******************************->...................]0.2149\train loss: 60 % [******************************->...................]0.1100\train loss: 61 % [******************************->...................]0.2188\train loss: 61 % [******************************->...................]0.1533\train loss: 62 % [*******************************->..................]0.3708\train loss: 62 % [*******************************->..................]0.1854\train loss: 63 % [*******************************->..................]0.2952\train loss: 63 % [*******************************->..................]0.1959\train loss: 64 % [********************************->.................]0.1556\train loss: 64 % [********************************->.................]0.1576\train loss: 65 % [********************************->.................]0.1796\train loss: 65 % [********************************->.................]0.1856\train loss: 66 % [*********************************->................]0.1437\train loss: 66 % [*********************************->................]0.3831\train loss: 67 % [*********************************->................]0.2643\train loss: 67 % [*********************************->................]0.0467\train loss: 68 % [**********************************->...............]0.7761\train loss: 68 % [**********************************->...............]0.1467\train loss: 69 % [**********************************->...............]0.3459\train loss: 69 % [**********************************->...............]0.7044\train loss: 70 % [***********************************->..............]0.3280\train loss: 70 % [***********************************->..............]0.2412\train loss: 71 % [***********************************->..............]0.4250\train loss: 71 % [***********************************->..............]0.2597\train loss: 71 % [***********************************->..............]0.4571\train loss: 72 % [************************************->.............]0.4299\train loss: 72 % [************************************->.............]0.2436\train loss: 73 % [************************************->.............]0.8595\train loss: 73 % [************************************->.............]0.2895\train loss: 74 % [*************************************->............]0.1670\train loss: 74 % [*************************************->............]0.2952\train loss: 75 % [*************************************->............]0.1633\train loss: 75 % [*************************************->............]0.2062\train loss: 76 % [**************************************->...........]0.1395\train loss: 76 % [**************************************->...........]0.0319\train loss: 77 % [**************************************->...........]0.5180\train loss: 77 % [**************************************->...........]0.4270\train loss: 78 % [***************************************->..........]0.1713\train loss: 78 % [***************************************->..........]0.2382\train loss: 79 % [***************************************->..........]0.2420\train loss: 79 % [***************************************->..........]0.0541\train loss: 80 % [****************************************->.........]0.1157\train loss: 80 % [****************************************->.........]0.4546\train loss: 81 % [****************************************->.........]0.2766\train loss: 81 % [****************************************->.........]0.1684\train loss: 82 % [*****************************************->........]0.1697\train loss: 82 % [*****************************************->........]0.4461\train loss: 83 % [*****************************************->........]0.1946\train loss: 83 % [*****************************************->........]0.1103\train loss: 84 % [******************************************->.......]0.1643\train loss: 84 % [******************************************->.......]0.2952\train loss: 85 % [******************************************->.......]0.1607\train loss: 85 % [******************************************->.......]0.1389\train loss: 85 % [******************************************->.......]0.2606\train loss: 86 % [*******************************************->......]0.2110\train loss: 86 % [*******************************************->......]0.4836\train loss: 87 % [*******************************************->......]0.0993\train loss: 87 % [*******************************************->......]0.1334\train loss: 88 % [********************************************->.....]0.1845\train loss: 88 % [********************************************->.....]0.2699\train loss: 89 % [********************************************->.....]0.4197\train loss: 89 % [********************************************->.....]0.2090\train loss: 90 % [*********************************************->....]0.2265\train loss: 90 % [*********************************************->....]0.2423\train loss: 91 % [*********************************************->....]0.3283\train loss: 91 % [*********************************************->....]0.1656\train loss: 92 % [**********************************************->...]0.0710\train loss: 92 % [**********************************************->...]0.5214\train loss: 93 % [**********************************************->...]0.4554\train loss: 93 % [**********************************************->...]0.2320\train loss: 94 % [***********************************************->..]0.2119\train loss: 94 % [***********************************************->..]0.3497\train loss: 95 % [***********************************************->..]0.4803\train loss: 95 % [***********************************************->..]0.1385\train loss: 96 % [************************************************->.]0.7770\train loss: 96 % [************************************************->.]0.2804\train loss: 97 % [************************************************->.]0.0660\train loss: 97 % [************************************************->.]0.4628\train loss: 98 % [*************************************************->]0.1596\train loss: 98 % [*************************************************->]0.1257\train loss: 99 % [*************************************************->]0.1813\train loss: 99 % [*************************************************->]0.3931\train loss: 100% [**************************************************->]0.0303\n",
      "[epoch 3] train_loss: 0.279  test_accuracy: 0.931\n",
      "Finished Training\n"
     ]
    }
   ],
   "source": [
    "loss_function = nn.CrossEntropyLoss()\n",
    "optimizer = optim.Adam(net.parameters(),lr=0.0001)\n",
    "\n",
    "best_acc = 0.0\n",
    "save_path = './resNet50.pth'\n",
    "for epoch in range(3):\n",
    "    # train\n",
    "    net.train()\n",
    "    running_loss = 0.0\n",
    "    for step,data in enumerate(train_loader,start=0):\n",
    "        images, labels = data\n",
    "        optimizer.zero_grad()\n",
    "        logits = net(images.to(device))\n",
    "        loss = loss_function(logits,labels.to(device))\n",
    "        loss.backward()\n",
    "        optimizer.step()\n",
    "        \n",
    "        #print statistics\n",
    "        running_loss += loss.item()\n",
    "        #print train process\n",
    "        rate = (step+1)/len(train_loader)\n",
    "        a = \"*\"*int(rate*50)\n",
    "        b = \".\"*int((1-rate)*50)\n",
    "        print(\"\\train loss: {:^3.0f}% [{}->{}]{:.4f}\".format(int(rate*100),a,b,loss),end=\"\")\n",
    "    print()\n",
    "    \n",
    "    #validate\n",
    "    net.eval()\n",
    "    acc = 0.0 # accumulate accurate number/epoch\n",
    "    with torch.no_grad():\n",
    "        for val_data in validate_loader:\n",
    "            val_images, val_labels = val_data\n",
    "            outputs = net(val_images.to(device)) #eval model only have last output layer\n",
    "            # loss = loss_function(outputs,test_labels)\n",
    "            predict_y = torch.max(outputs,dim=1)[1]\n",
    "            acc+=(predict_y==val_labels.to(device)).sum().item()\n",
    "            \n",
    "        val_accurate = acc/val_num\n",
    "        if val_accurate>best_acc:\n",
    "            best_acc = val_accurate\n",
    "            torch.save(net.state_dict(),save_path)\n",
    "            \n",
    "        print('[epoch %d] train_loss: %.3f  test_accuracy: %.3f' %\n",
    "                (epoch + 1, running_loss / step, val_accurate))\n",
    "    print('Finished Training')"
   ]
  },
  {
   "cell_type": "code",
   "execution_count": null,
   "metadata": {},
   "outputs": [],
   "source": []
  },
  {
   "cell_type": "code",
   "execution_count": null,
   "metadata": {},
   "outputs": [],
   "source": []
  },
  {
   "cell_type": "code",
   "execution_count": null,
   "metadata": {},
   "outputs": [],
   "source": []
  }
 ],
 "metadata": {
  "kernelspec": {
   "display_name": "Python 3",
   "language": "python",
   "name": "python3"
  },
  "language_info": {
   "codemirror_mode": {
    "name": "ipython",
    "version": 3
   },
   "file_extension": ".py",
   "mimetype": "text/x-python",
   "name": "python",
   "nbconvert_exporter": "python",
   "pygments_lexer": "ipython3",
   "version": "3.7.6"
  }
 },
 "nbformat": 4,
 "nbformat_minor": 4
}
