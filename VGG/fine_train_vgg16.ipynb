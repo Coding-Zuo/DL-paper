{
 "cells": [
  {
   "cell_type": "code",
   "execution_count": 3,
   "metadata": {},
   "outputs": [
    {
     "name": "stdout",
     "output_type": "stream",
     "text": [
      "importing Jupyter notebook from VGGModel.ipynb\n"
     ]
    }
   ],
   "source": [
    "from tensorflow.keras.preprocessing.image import ImageDataGenerator\n",
    "import matplotlib.pyplot as plt\n",
    "import import_ipynb\n",
    "from VGGModel import vgg\n",
    "import tensorflow as tf\n",
    "import json\n",
    "import os"
   ]
  },
  {
   "cell_type": "code",
   "execution_count": null,
   "metadata": {},
   "outputs": [],
   "source": [
    "data_root = os.path.abspath(os.path.join(os.getcwd(), \"../..\"))  # get data root path\n",
    "image_path = data_root + \"/data_set/flower_data/\"  # flower data set path\n",
    "train_dir = image_path + \"train\"\n",
    "validation_dir = image_path + \"val\"\n",
    "\n",
    "# create direction for saving weights\n",
    "if not os.path.exists(\"save_weights\"):\n",
    "    os.makedirs(\"save_weights\")\n",
    "\n",
    "im_height = 224\n",
    "im_width = 224\n",
    "batch_size = 32\n",
    "epochs = 10\n",
    "\n",
    "_R_MEAN = 123.68\n",
    "_G_MEAN = 116.78\n",
    "_B_MEAN = 103.94\n",
    "\n",
    "def pre_function(img):\n",
    "    # img = im.open('test.jpg')\n",
    "    # img = np.array(img).astype(np.float32)\n",
    "    img = img - [_R_MEAN, _G_MEAN, _B_MEAN]\n",
    "\n",
    "    return img\n",
    "\n",
    "# data generator with data augmentation\n",
    "train_image_generator = ImageDataGenerator(horizontal_flip=True,\n",
    "                                               preprocessing_function=pre_function)\n",
    "validation_image_generator = ImageDataGenerator(preprocessing_function=pre_function)\n",
    "\n",
    "train_data_gen = train_image_generator.flow_from_directory(directory=train_dir,\n",
    "                                                               batch_size=batch_size,\n",
    "                                                               shuffle=True,\n",
    "                                                               target_size=(im_height, im_width),\n",
    "                                                               class_mode='categorical')\n",
    "total_train = train_data_gen.n\n",
    "\n",
    "# get class dict\n",
    "class_indices = train_data_gen.class_indices\n",
    "\n",
    "# transform value and key of dict\n",
    "inverse_dict = dict((val, key) for key, val in class_indices.items())\n",
    "# write dict into json file\n",
    "json_str = json.dumps(inverse_dict, indent=4)\n",
    "with open('class_indices.json', 'w') as json_file:\n",
    "    json_file.write(json_str)\n",
    "\n",
    "val_data_gen = validation_image_generator.flow_from_directory(directory=validation_dir,\n",
    "                                                                  batch_size=batch_size,\n",
    "                                                                  shuffle=False,\n",
    "                                                                  target_size=(im_height, im_width),\n",
    "                                                                  class_mode='categorical')\n",
    "total_val = val_data_gen.n\n",
    "\n",
    "model = vgg(\"vgg16\", 224, 224, 5)\n",
    "model.load_weights('./pretrain_weights.ckpt')\n",
    "for layer_t in model.layers:\n",
    "    if layer_t.name == 'feature':\n",
    "        layer_t.trainable = False\n",
    "        break\n",
    "\n",
    "model.summary()\n",
    "\n",
    "# using keras high level api for training\n",
    "model.compile(optimizer=tf.keras.optimizers.Adam(learning_rate=0.0001),\n",
    "                  loss=tf.keras.losses.CategoricalCrossentropy(from_logits=False),\n",
    "                  metrics=[\"accuracy\"])\n",
    "\n",
    "callbacks = [tf.keras.callbacks.ModelCheckpoint(filepath='./save_weights/myAlex_{epoch}.h5',\n",
    "                                                    save_best_only=True,\n",
    "                                                    save_weights_only=True,\n",
    "                                                    monitor='val_loss')]\n",
    "\n",
    " # tensorflow2.1 recommend to using fit\n",
    "history = model.fit(x=train_data_gen,\n",
    "                        steps_per_epoch=total_train // batch_size,\n",
    "                        epochs=epochs,\n",
    "                        validation_data=val_data_gen,\n",
    "                        validation_steps=total_val // batch_size,\n",
    "                        callbacks=callbacks)\n"
   ]
  }
 ],
 "metadata": {
  "kernelspec": {
   "display_name": "Python 3",
   "language": "python",
   "name": "python3"
  },
  "language_info": {
   "codemirror_mode": {
    "name": "ipython",
    "version": 3
   },
   "file_extension": ".py",
   "mimetype": "text/x-python",
   "name": "python",
   "nbconvert_exporter": "python",
   "pygments_lexer": "ipython3",
   "version": "3.7.6"
  }
 },
 "nbformat": 4,
 "nbformat_minor": 4
}
